{
 "cells": [
  {
   "cell_type": "code",
   "execution_count": 3,
   "id": "7144c77b",
   "metadata": {},
   "outputs": [],
   "source": [
    "import cv2\n",
    "import numpy as np\n",
    "import glob\n",
    "\n",
    "\n",
    "def create_video_from_pictures(path, out_path, extension):\n",
    "    img_array = []\n",
    "    size = ()\n",
    "    names = glob.glob(path + '*.' + extension)\n",
    "    names.sort()\n",
    "    for filename in names:\n",
    "        img = cv2.imread(filename)\n",
    "        height, width, layers = img.shape\n",
    "        size = (width, height)\n",
    "        img_array.append(img)\n",
    "\n",
    "    out = cv2.VideoWriter(out_path + 'video_8024.mp4', cv2.VideoWriter_fourcc(*'DIVX'), 20, size)\n",
    "\n",
    "    for i in range(len(img_array)):\n",
    "        out.write(img_array[i])\n",
    "    out.release()\n",
    "\n",
    "if __name__ == '__main__':\n",
    "    # path = './DiffuseMaps/plot_out/'\n",
    "    # out_path = './DiffuseMaps/plot_out/'\n",
    "    path = 'save_fig/'\n",
    "    out_path = 'test_video/'\n",
    "    # path = './test10/'\n",
    "    # out_path = './test10/'\n",
    "    # files_ext = 'png'\n",
    "    files_ext = 'jpg'\n",
    "    create_video_from_pictures(path, out_path, files_ext)"
   ]
  },
  {
   "cell_type": "code",
   "execution_count": null,
   "id": "157673c8",
   "metadata": {},
   "outputs": [],
   "source": []
  }
 ],
 "metadata": {
  "interpreter": {
   "hash": "6e9f49d9c7964425c10e60cc9d36a22114409df50625801f29443682b058a454"
  },
  "kernelspec": {
   "display_name": "Python 3",
   "language": "python",
   "name": "python3"
  },
  "language_info": {
   "codemirror_mode": {
    "name": "ipython",
    "version": 3
   },
   "file_extension": ".py",
   "mimetype": "text/x-python",
   "name": "python",
   "nbconvert_exporter": "python",
   "pygments_lexer": "ipython3",
   "version": "3.8.8"
  }
 },
 "nbformat": 4,
 "nbformat_minor": 5
}
