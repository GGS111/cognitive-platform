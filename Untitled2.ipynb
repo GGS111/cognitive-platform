{
 "cells": [
  {
   "cell_type": "code",
   "execution_count": 11,
   "id": "5170e963",
   "metadata": {},
   "outputs": [],
   "source": [
    "import numpy as np\n",
    "from sklearn.linear_model import LinearRegression\n",
    "from sklearn.metrics import mean_squared_error, r2_score\n",
    "from sklearn.preprocessing import PolynomialFeatures\n",
    "points = np.array([[ 0.44927858, -0.31420136,  1.34783573], [ 0.44675099, -0.31380103,  1.34611842], [ 0.44392858, -0.31221351,  1.34349375]])"
   ]
  },
  {
   "cell_type": "code",
   "execution_count": 12,
   "id": "1930e49e",
   "metadata": {},
   "outputs": [
    {
     "data": {
      "text/plain": [
       "array([[ 0.44927858, -0.31420136,  1.34783573],\n",
       "       [ 0.44675099, -0.31380103,  1.34611842],\n",
       "       [ 0.44392858, -0.31221351,  1.34349375]])"
      ]
     },
     "execution_count": 12,
     "metadata": {},
     "output_type": "execute_result"
    }
   ],
   "source": [
    "points"
   ]
  },
  {
   "cell_type": "code",
   "execution_count": 24,
   "id": "3c8a5973",
   "metadata": {},
   "outputs": [
    {
     "name": "stdout",
     "output_type": "stream",
     "text": [
      "[0.44927858, -0.31420136, 1.34783573, 0.44675099, -0.31380103, 1.34611842, 0.44392858, -0.31221351, 1.34349375]\n",
      "[array([ 0.44927858, -0.31420136,  1.34783573]), array([ 0.44675099, -0.31380103,  1.34611842]), array([ 0.44392858, -0.31221351,  1.34349375])]\n"
     ]
    }
   ],
   "source": [
    "spisok = []\n",
    "result = [] \n",
    "for i in points:\n",
    "    for j in i:\n",
    "        result.append(j)\n",
    "print(result)\n",
    "count = len(result) // 3\n",
    "split_result = np.array_split(np.array(result), 3) #Сплитим большой список с шагом 99\n",
    "print(split_result)"
   ]
  },
  {
   "cell_type": "code",
   "execution_count": 14,
   "id": "32ac3f1f",
   "metadata": {},
   "outputs": [
    {
     "data": {
      "text/plain": [
       "[array([0.49430432, 0.49302279, 0.49173627])]"
      ]
     },
     "execution_count": 14,
     "metadata": {},
     "output_type": "execute_result"
    }
   ],
   "source": [
    "mean_points"
   ]
  },
  {
   "cell_type": "code",
   "execution_count": 29,
   "id": "3f1fbef0",
   "metadata": {},
   "outputs": [
    {
     "name": "stdout",
     "output_type": "stream",
     "text": [
      "[[0.44927858, 0.44675099, 0.44392858], [-0.31420136, -0.31380103, -0.31221351], [1.34783573, 1.34611842, 1.34349375]]\n",
      "[array([ 0.44665272, -0.3134053 ,  1.34581597])]\n"
     ]
    }
   ],
   "source": [
    "result = []\n",
    "spisok = []\n",
    "for i in range(3):\n",
    "    spisok_ = []\n",
    "    index = 0\n",
    "    while index < count:\n",
    "        spisok_.append(points[index][i])\n",
    "        index += 1\n",
    "    spisok.append(spisok_)\n",
    "print(spisok)\n",
    "# Собрали в списки по уникальным точкам. Всего списков 99 т.к уникальных 99 точек\n",
    "for y in np.array(spisok):\n",
    "    x = np.array(range(1,len(y)+1)).reshape((-1, 1))\n",
    "    model = LinearRegression()\n",
    "    model.fit(x, y)\n",
    "    model = LinearRegression().fit(x, y)\n",
    "    y_pred = model.predict(x)\n",
    "    summa = [y_pred,y]\n",
    "    result.append(np.mean(summa))\n",
    "#Усреднили каждую точку через линейную регрессию\n",
    "mean_points = np.array_split(np.array(result),1) \n",
    "print(mean_points)"
   ]
  },
  {
   "cell_type": "code",
   "execution_count": 34,
   "id": "5665ce63",
   "metadata": {},
   "outputs": [
    {
     "data": {
      "text/plain": [
       "9"
      ]
     },
     "execution_count": 34,
     "metadata": {},
     "output_type": "execute_result"
    }
   ],
   "source": [
    "points.shape[0] * points.shape[1]"
   ]
  },
  {
   "cell_type": "code",
   "execution_count": null,
   "id": "851de8e3",
   "metadata": {},
   "outputs": [],
   "source": []
  }
 ],
 "metadata": {
  "kernelspec": {
   "display_name": "Python 3",
   "language": "python",
   "name": "python3"
  },
  "language_info": {
   "codemirror_mode": {
    "name": "ipython",
    "version": 3
   },
   "file_extension": ".py",
   "mimetype": "text/x-python",
   "name": "python",
   "nbconvert_exporter": "python",
   "pygments_lexer": "ipython3",
   "version": "3.8.8"
  }
 },
 "nbformat": 4,
 "nbformat_minor": 5
}
