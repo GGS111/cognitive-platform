{
 "cells": [
  {
   "cell_type": "code",
   "execution_count": 1,
   "id": "fc7be991",
   "metadata": {},
   "outputs": [],
   "source": [
    "import numpy as np\n",
    "from sklearn.linear_model import LinearRegression"
   ]
  },
  {
   "cell_type": "code",
   "execution_count": null,
   "id": "bb936c61",
   "metadata": {},
   "outputs": [],
   "source": [
    "[1.195, 1.2, 1.19, 1.2]\n",
    "mean 1.19625"
   ]
  },
  {
   "cell_type": "code",
   "execution_count": 10,
   "id": "f3ef2852",
   "metadata": {},
   "outputs": [
    {
     "name": "stdout",
     "output_type": "stream",
     "text": [
      "[[1]\n",
      " [2]\n",
      " [3]\n",
      " [4]] [1.195 1.2   1.19  1.2  ]\n"
     ]
    }
   ],
   "source": [
    "y = np.array([1.195, 1.2, 1.19, 1.2])\n",
    "x = np.array(range(1,len(y)+1)).reshape((-1, 1))\n",
    "print(x,y)"
   ]
  },
  {
   "cell_type": "code",
   "execution_count": 11,
   "id": "98828fc7",
   "metadata": {},
   "outputs": [],
   "source": [
    "model = LinearRegression()"
   ]
  },
  {
   "cell_type": "code",
   "execution_count": 12,
   "id": "a84d44d0",
   "metadata": {},
   "outputs": [
    {
     "data": {
      "text/plain": [
       "LinearRegression()"
      ]
     },
     "execution_count": 12,
     "metadata": {},
     "output_type": "execute_result"
    }
   ],
   "source": [
    "model.fit(x, y)"
   ]
  },
  {
   "cell_type": "code",
   "execution_count": 13,
   "id": "e4a9a99e",
   "metadata": {},
   "outputs": [],
   "source": [
    "model = LinearRegression().fit(x, y)"
   ]
  },
  {
   "cell_type": "code",
   "execution_count": 25,
   "id": "871cf5c2",
   "metadata": {},
   "outputs": [
    {
     "data": {
      "text/plain": [
       "1.19625"
      ]
     },
     "execution_count": 25,
     "metadata": {},
     "output_type": "execute_result"
    }
   ],
   "source": [
    "y_pred = model.predict(x)\n",
    "summa = [y_pred,y]\n",
    "np.mean(summa)"
   ]
  },
  {
   "cell_type": "code",
   "execution_count": null,
   "id": "ab61a8e0",
   "metadata": {},
   "outputs": [],
   "source": [
    "x = np.array([1, 2, 3, 4, 5]).reshape((-1, 1))\n",
    "y = np.array([5, 20, 14, 32, 22, 38])"
   ]
  }
 ],
 "metadata": {
  "kernelspec": {
   "display_name": "Python 3",
   "language": "python",
   "name": "python3"
  },
  "language_info": {
   "codemirror_mode": {
    "name": "ipython",
    "version": 3
   },
   "file_extension": ".py",
   "mimetype": "text/x-python",
   "name": "python",
   "nbconvert_exporter": "python",
   "pygments_lexer": "ipython3",
   "version": "3.8.8"
  }
 },
 "nbformat": 4,
 "nbformat_minor": 5
}
