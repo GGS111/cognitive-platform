{
 "cells": [
  {
   "cell_type": "code",
   "execution_count": 4,
   "id": "strong-bubble",
   "metadata": {},
   "outputs": [],
   "source": [
    "import av\n",
    "import os\n",
    "#Функция для прореживания видео.\n",
    "#path - Путь до видео\n",
    "#path_out = Папка куда будут складываться ключевые кадры из видео\n",
    "def frame_decimation(path,path_out):\n",
    "    for file in os.listdir(path_out):\n",
    "        print(file)\n",
    "        os.remove(path_out + file)\n",
    "    with av.open(path) as container:\n",
    "        # Signal that we only want to look at keyframes.\n",
    "        stream = container.streams.video[0]\n",
    "        stream.codec_context.skip_frame = 'NONKEY'\n",
    "\n",
    "        for frame in container.decode(stream):\n",
    "\n",
    "            frame.to_image().save(\n",
    "                path_out + 'frame.{:01d}.jpg'.format(frame.pts),\n",
    "                quality=80,\n",
    "            )"
   ]
  },
  {
   "cell_type": "code",
   "execution_count": 6,
   "id": "applicable-practitioner",
   "metadata": {},
   "outputs": [],
   "source": [
    "frame_decimation('test_video/3609.mp4','3610/')"
   ]
  },
  {
   "cell_type": "code",
   "execution_count": 16,
   "id": "postal-renewal",
   "metadata": {},
   "outputs": [],
   "source": [
    "count = 1\n",
    "for file in os.listdir('2/'):\n",
    "    if count % 3 == 0: #or count % 3 == 0: #or count % 5 == 0 or count % 4 == 0:\n",
    "        os.remove('2/' + file)\n",
    "    count += 1"
   ]
  },
  {
   "cell_type": "code",
   "execution_count": null,
   "id": "earned-kinase",
   "metadata": {},
   "outputs": [],
   "source": []
  }
 ],
 "metadata": {
  "kernelspec": {
   "display_name": "Python 3",
   "language": "python",
   "name": "python3"
  },
  "language_info": {
   "codemirror_mode": {
    "name": "ipython",
    "version": 3
   },
   "file_extension": ".py",
   "mimetype": "text/x-python",
   "name": "python",
   "nbconvert_exporter": "python",
   "pygments_lexer": "ipython3",
   "version": "3.8.8"
  }
 },
 "nbformat": 4,
 "nbformat_minor": 5
}
