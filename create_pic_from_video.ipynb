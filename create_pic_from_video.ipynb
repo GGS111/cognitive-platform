{
 "cells": [
  {
   "cell_type": "code",
   "execution_count": 1,
   "id": "888da1b1",
   "metadata": {},
   "outputs": [
    {
     "name": "stdout",
     "output_type": "stream",
     "text": [
      "True\n",
      "ret = False\n"
     ]
    }
   ],
   "source": [
    "import cv2\n",
    "import os\n",
    "# Opens the Video file\n",
    "#source_path_in = 'assets/'\n",
    "source_path_in = 'test_video/main_video/'\n",
    "source_video_name = '1.mp4' #Название видео.\n",
    "f_name = source_video_name[0:source_video_name.rindex('.')]\n",
    "source_path_out = 'video_frames/' + f_name + '/'\n",
    "\n",
    "if not os.path.exists(source_path_out):\n",
    "    os.makedirs(source_path_out)\n",
    "\n",
    "cap = cv2.VideoCapture(source_path_in + source_video_name)\n",
    "#cap = cv2.VideoCapture(0)\n",
    "print(cap.isOpened())\n",
    "i = 0\n",
    "\n",
    "while cap.isOpened():\n",
    "    ret, frame = cap.read()\n",
    "    if not ret:\n",
    "        print('ret = False')\n",
    "        break\n",
    "    cv2.imshow(\"video\", frame)\n",
    "    cv2.imwrite(source_path_out + str(i).zfill(5) + '.jpg', frame)\n",
    "    i += 1\n",
    "    #print(i)\n",
    "    if cv2.waitKey(1) == 27:\n",
    "        break\n",
    "\n",
    "cap.release()\n",
    "cv2.destroyAllWindows()"
   ]
  },
  {
   "cell_type": "code",
   "execution_count": null,
   "id": "6901e35d",
   "metadata": {},
   "outputs": [],
   "source": []
  }
 ],
 "metadata": {
  "kernelspec": {
   "display_name": "Python 3",
   "language": "python",
   "name": "python3"
  },
  "language_info": {
   "codemirror_mode": {
    "name": "ipython",
    "version": 3
   },
   "file_extension": ".py",
   "mimetype": "text/x-python",
   "name": "python",
   "nbconvert_exporter": "python",
   "pygments_lexer": "ipython3",
   "version": "3.8.8"
  }
 },
 "nbformat": 4,
 "nbformat_minor": 5
}
