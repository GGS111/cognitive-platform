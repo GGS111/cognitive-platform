{
 "cells": [
  {
   "cell_type": "code",
   "execution_count": 1,
   "id": "clear-coaching",
   "metadata": {},
   "outputs": [],
   "source": [
    "import numpy as np\n",
    "from sklearn.linear_model import LinearRegression"
   ]
  },
  {
   "cell_type": "code",
   "execution_count": 2,
   "id": "metallic-native",
   "metadata": {},
   "outputs": [],
   "source": [
    "spisok = np.array(([193.5, 585.5],[179., 576.],[147.5, 574.5],[147. , 571.5]))"
   ]
  },
  {
   "cell_type": "code",
   "execution_count": 3,
   "id": "informed-briefing",
   "metadata": {},
   "outputs": [
    {
     "data": {
      "text/plain": [
       "array([585.5, 576. , 574.5, 571.5])"
      ]
     },
     "execution_count": 3,
     "metadata": {},
     "output_type": "execute_result"
    }
   ],
   "source": [
    "spisok[:,1]"
   ]
  },
  {
   "cell_type": "code",
   "execution_count": 4,
   "id": "healthy-convert",
   "metadata": {},
   "outputs": [
    {
     "data": {
      "text/plain": [
       "array([139.2       , 569.86666667])"
      ]
     },
     "execution_count": 4,
     "metadata": {},
     "output_type": "execute_result"
    }
   ],
   "source": [
    "def get_average(meaning):\n",
    "    model = LinearRegression()\n",
    "    d = meaning[-5:]\n",
    "    t = np.array(range(1,len(d)+1)).reshape((-1, 1))\n",
    "    model.fit(t, d) #Получаем веса\n",
    "    pred = model.predict(t)\n",
    "    next1 = model.intercept_ + model.coef_[0] *5\n",
    "    zerkalo_pred = []\n",
    "    for i in pred:\n",
    "        ss = pred[-1] - (i-pred[-1])\n",
    "        zerkalo_pred.append(ss)\n",
    "    qq = np.append(np.append(zerkalo_pred,next1),d)\n",
    "    return np.mean(qq)\n",
    "\n",
    "x = get_average(spisok[:,0])\n",
    "y = get_average(spisok[:,1])\n",
    "\n",
    "result = np.array([x,y])\n",
    "result"
   ]
  },
  {
   "cell_type": "code",
   "execution_count": 7,
   "id": "christian-appliance",
   "metadata": {},
   "outputs": [
    {
     "data": {
      "text/plain": [
       "array([124., 566.])"
      ]
     },
     "execution_count": 7,
     "metadata": {},
     "output_type": "execute_result"
    }
   ],
   "source": [
    "def get_average(meaning):\n",
    "    model = LinearRegression()\n",
    "    d = meaning[-5:]\n",
    "    t = np.array(range(1,len(d)+1)).reshape((-1, 1))\n",
    "    model.fit(t, d) #Получаем веса\n",
    "    pred = model.predict(t)\n",
    "    next1 = model.intercept_ + model.coef_[0] *5\n",
    "    return next1\n",
    "\n",
    "x = get_average(spisok[:,0])\n",
    "y = get_average(spisok[:,1])\n",
    "\n",
    "result = np.array([x,y])\n",
    "result"
   ]
  },
  {
   "cell_type": "code",
   "execution_count": 5,
   "id": "assisted-packing",
   "metadata": {},
   "outputs": [
    {
     "data": {
      "text/plain": [
       "array(139.2)"
      ]
     },
     "execution_count": 5,
     "metadata": {},
     "output_type": "execute_result"
    }
   ],
   "source": [
    "np.array(x)"
   ]
  },
  {
   "cell_type": "code",
   "execution_count": 6,
   "id": "polar-indicator",
   "metadata": {},
   "outputs": [
    {
     "ename": "NameError",
     "evalue": "name 'pred' is not defined",
     "output_type": "error",
     "traceback": [
      "\u001b[1;31m---------------------------------------------------------------------------\u001b[0m",
      "\u001b[1;31mNameError\u001b[0m                                 Traceback (most recent call last)",
      "\u001b[1;32m<ipython-input-6-06835854f830>\u001b[0m in \u001b[0;36m<module>\u001b[1;34m\u001b[0m\n\u001b[0;32m      1\u001b[0m \u001b[0mzerkalo_pred\u001b[0m \u001b[1;33m=\u001b[0m \u001b[1;33m[\u001b[0m\u001b[1;33m]\u001b[0m\u001b[1;33m\u001b[0m\u001b[1;33m\u001b[0m\u001b[0m\n\u001b[1;32m----> 2\u001b[1;33m \u001b[1;32mfor\u001b[0m \u001b[0mi\u001b[0m \u001b[1;32min\u001b[0m \u001b[0mpred\u001b[0m\u001b[1;33m:\u001b[0m\u001b[1;33m\u001b[0m\u001b[1;33m\u001b[0m\u001b[0m\n\u001b[0m\u001b[0;32m      3\u001b[0m     \u001b[0mss\u001b[0m \u001b[1;33m=\u001b[0m \u001b[0mpred\u001b[0m\u001b[1;33m[\u001b[0m\u001b[1;33m-\u001b[0m\u001b[1;36m1\u001b[0m\u001b[1;33m]\u001b[0m \u001b[1;33m-\u001b[0m \u001b[1;33m(\u001b[0m\u001b[0mi\u001b[0m\u001b[1;33m-\u001b[0m\u001b[0mpred\u001b[0m\u001b[1;33m[\u001b[0m\u001b[1;33m-\u001b[0m\u001b[1;36m1\u001b[0m\u001b[1;33m]\u001b[0m\u001b[1;33m)\u001b[0m\u001b[1;33m\u001b[0m\u001b[1;33m\u001b[0m\u001b[0m\n\u001b[0;32m      4\u001b[0m     \u001b[0mprint\u001b[0m\u001b[1;33m(\u001b[0m\u001b[0mtype\u001b[0m\u001b[1;33m(\u001b[0m\u001b[0mss\u001b[0m\u001b[1;33m)\u001b[0m\u001b[1;33m)\u001b[0m\u001b[1;33m\u001b[0m\u001b[1;33m\u001b[0m\u001b[0m\n\u001b[0;32m      5\u001b[0m     \u001b[0mzerkalo_pred\u001b[0m\u001b[1;33m.\u001b[0m\u001b[0mappend\u001b[0m\u001b[1;33m(\u001b[0m\u001b[0mss\u001b[0m\u001b[1;33m)\u001b[0m\u001b[1;33m\u001b[0m\u001b[1;33m\u001b[0m\u001b[0m\n",
      "\u001b[1;31mNameError\u001b[0m: name 'pred' is not defined"
     ]
    }
   ],
   "source": [
    "zerkalo_pred = []\n",
    "for i in pred:\n",
    "    ss = pred[-1] - (i-pred[-1])\n",
    "    print(type(ss))\n",
    "    zerkalo_pred.append(ss)\n",
    "aa = np.append(zerkalo_pred,next1)\n",
    "qq = np.append(aa,np.array(x))"
   ]
  },
  {
   "cell_type": "code",
   "execution_count": null,
   "id": "raising-shade",
   "metadata": {},
   "outputs": [],
   "source": [
    "np.mean(qq)"
   ]
  },
  {
   "cell_type": "code",
   "execution_count": null,
   "id": "delayed-print",
   "metadata": {},
   "outputs": [],
   "source": []
  },
  {
   "cell_type": "code",
   "execution_count": null,
   "id": "nasty-phone",
   "metadata": {},
   "outputs": [],
   "source": [
    "new_x = np.mean([x,model.predict(t)])\n",
    "new_x"
   ]
  },
  {
   "cell_type": "code",
   "execution_count": null,
   "id": "ongoing-system",
   "metadata": {},
   "outputs": [],
   "source": [
    "#Посторение линейное регрессии\n",
    "d = x[-5:] #Берем список 5 последних значений глубины. По другому это выходы/предикторы\n",
    "x = np.array(range(1,len(d)+1)).reshape((-1, 1)) #Входы/регрессоры\n",
    "model.fit(x, d) #Получаем веса\n",
    "model = LinearRegression().fit(x, d) #Получаем готовую модель. Из нее получаем предикшены на следующие 5 значений глубины"
   ]
  }
 ],
 "metadata": {
  "kernelspec": {
   "display_name": "Python 3",
   "language": "python",
   "name": "python3"
  },
  "language_info": {
   "codemirror_mode": {
    "name": "ipython",
    "version": 3
   },
   "file_extension": ".py",
   "mimetype": "text/x-python",
   "name": "python",
   "nbconvert_exporter": "python",
   "pygments_lexer": "ipython3",
   "version": "3.8.8"
  }
 },
 "nbformat": 4,
 "nbformat_minor": 5
}
